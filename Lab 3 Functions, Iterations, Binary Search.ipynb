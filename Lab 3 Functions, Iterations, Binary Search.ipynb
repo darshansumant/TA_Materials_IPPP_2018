{
 "cells": [
  {
   "cell_type": "markdown",
   "metadata": {},
   "source": [
    "# Lab 3 - Functions, Iterations, Binary Search, using Modules"
   ]
  },
  {
   "cell_type": "markdown",
   "metadata": {},
   "source": [
    "## Agenda\n",
    "    Key Common Mistakes in Assignment 1 (Shell Script)\n",
    "    Quick Discussion on using Shell Scripts\n",
    "    Python: Functions\n",
    "    Python: Interactive Inputs\n",
    "    Python: Iterations, range function, list indices\n",
    "    Binary Search: Algorithm & Python code\n",
    "    Using Modules"
   ]
  },
  {
   "cell_type": "markdown",
   "metadata": {},
   "source": [
    "## (1) Key Common Mistakes in Assignment 1"
   ]
  },
  {
   "cell_type": "markdown",
   "metadata": {},
   "source": [
    "#### Q3: very important to include the 'commas'\n",
    "    $ grep 'P' salaries.csv | wc -l\n",
    "    $ grep ',P' salaries.csv |  wc -l \n",
    "    $ grep ',P,' salaries.csv | wc -l\n",
    "\n",
    "#### Q4: Similar possibilities\n",
    "\n",
    "#### Q6: Answer\n",
    "    $ cut -d, -f4 salaries.csv | sort | uniq -c | sort -n | tail -1"
   ]
  },
  {
   "cell_type": "markdown",
   "metadata": {},
   "source": [
    "## (3) Python Functions"
   ]
  },
  {
   "cell_type": "code",
   "execution_count": 3,
   "metadata": {},
   "outputs": [],
   "source": [
    "### Function without parameters\n",
    "def function():\n",
    "    print(\"Hello World!\")\n",
    "    print(100)"
   ]
  },
  {
   "cell_type": "code",
   "execution_count": 4,
   "metadata": {},
   "outputs": [
    {
     "name": "stdout",
     "output_type": "stream",
     "text": [
      "Hello World!\n",
      "100\n"
     ]
    }
   ],
   "source": [
    "function()"
   ]
  },
  {
   "cell_type": "code",
   "execution_count": 5,
   "metadata": {},
   "outputs": [],
   "source": [
    "### Function with parameters\n",
    "def function_2(name):\n",
    "    print(\"Hello World!\" + name)\n",
    "    print(\"Hello World!\", name)"
   ]
  },
  {
   "cell_type": "code",
   "execution_count": 6,
   "metadata": {},
   "outputs": [
    {
     "name": "stdout",
     "output_type": "stream",
     "text": [
      "Hello World!Darshan\n",
      "Hello World! Darshan\n"
     ]
    }
   ],
   "source": [
    "function_2(\"Darshan\")"
   ]
  },
  {
   "cell_type": "markdown",
   "metadata": {},
   "source": [
    "## (4) Interactive Inputs"
   ]
  },
  {
   "cell_type": "code",
   "execution_count": 29,
   "metadata": {},
   "outputs": [
    {
     "name": "stdout",
     "output_type": "stream",
     "text": [
      "Please Enter the Home Value10\n"
     ]
    }
   ],
   "source": [
    "#name = input(\"What's your name? \")\n",
    "#print(\"Nice to meet you \" + name + \"!\")\n",
    "price = input(\"Please Enter the Home Value\")\n",
    "#age = float(input(\"Your age? \"))\n",
    "#print(type(age))\n",
    "#print(age)\n",
    "#print(\"So, you are already\", age, \"years old, \" + name + \"!\")"
   ]
  },
  {
   "cell_type": "markdown",
   "metadata": {},
   "source": [
    "## (5) Iterations, range function, list indices"
   ]
  },
  {
   "cell_type": "code",
   "execution_count": 21,
   "metadata": {},
   "outputs": [
    {
     "name": "stdout",
     "output_type": "stream",
     "text": [
      "l[5:] =  [5, 6, 7, 8, 9]\n"
     ]
    }
   ],
   "source": [
    "# List Indices\n",
    "list = [0,1,2,3,4,5,6,7,8,9]\n",
    "#print(\"l[0] = \", l[0])\n",
    "#for i in range(10):\n",
    "#    print(i, l[i])\n",
    "#print(\"l[1] = \", l[1])\n",
    "#print(\"l[-1] = \", l[-1])\n",
    "#print(\"l[:5] = \", l[:5])\n",
    "print(\"l[5:] = \", list[5:])"
   ]
  },
  {
   "cell_type": "markdown",
   "metadata": {},
   "source": [
    "### Note the key differences!"
   ]
  },
  {
   "cell_type": "code",
   "execution_count": 25,
   "metadata": {},
   "outputs": [
    {
     "name": "stdout",
     "output_type": "stream",
     "text": [
      "a\n",
      "b\n",
      "c\n",
      "d\n",
      "e\n",
      "f\n",
      "g\n",
      "h\n",
      "i\n",
      "j\n",
      "k\n",
      "l\n",
      "m\n",
      "n\n"
     ]
    }
   ],
   "source": [
    "# Range Function\n",
    "### range(10)\n",
    "### range(10, 20)\n",
    "### range(10, 20, 2)\n",
    "#for i in range(10, 20, 2):\n",
    "#    print(i)\n",
    "\n",
    "word = 'abcdefghijklmn'\n",
    "for letter in word:\n",
    "    print(letter)"
   ]
  },
  {
   "cell_type": "markdown",
   "metadata": {},
   "source": [
    "### Iterations"
   ]
  },
  {
   "cell_type": "code",
   "execution_count": 28,
   "metadata": {},
   "outputs": [
    {
     "name": "stdout",
     "output_type": "stream",
     "text": [
      "10\n",
      "11\n",
      "12\n",
      "13\n",
      "14\n",
      "15\n",
      "16\n",
      "17\n",
      "18\n",
      "19\n",
      "20\n",
      "21\n",
      "22\n",
      "23\n",
      "24\n",
      "25\n",
      "26\n",
      "27\n",
      "28\n",
      "29\n",
      "30\n",
      "31\n",
      "32\n",
      "33\n",
      "34\n",
      "35\n",
      "36\n",
      "37\n",
      "38\n",
      "39\n",
      "40\n",
      "41\n",
      "42\n",
      "43\n",
      "44\n",
      "45\n",
      "46\n",
      "47\n",
      "48\n",
      "49\n",
      "50\n",
      "51\n",
      "52\n",
      "53\n",
      "54\n",
      "55\n",
      "56\n",
      "57\n",
      "58\n",
      "59\n",
      "60\n",
      "61\n",
      "62\n",
      "63\n",
      "64\n",
      "65\n",
      "66\n",
      "67\n",
      "68\n",
      "69\n",
      "70\n",
      "71\n",
      "72\n",
      "73\n",
      "74\n",
      "75\n",
      "76\n",
      "77\n",
      "78\n",
      "79\n",
      "80\n",
      "81\n",
      "82\n",
      "83\n",
      "84\n",
      "85\n",
      "86\n",
      "87\n",
      "88\n",
      "89\n",
      "90\n",
      "91\n",
      "92\n",
      "93\n",
      "94\n",
      "95\n",
      "96\n",
      "97\n",
      "98\n",
      "99\n",
      "100\n",
      "101\n",
      "102\n",
      "103\n",
      "104\n",
      "105\n",
      "106\n",
      "107\n",
      "108\n",
      "109\n",
      "110\n"
     ]
    }
   ],
   "source": [
    "## For Loop as seen above\n",
    "\n",
    "## While Loop\n",
    "x = 10\n",
    "iteration_num = 0\n",
    "\n",
    "while x > 0:\n",
    "    iteration_num = iteration_num + 1\n",
    "    print(x)\n",
    "    x = x + 1\n",
    "    \n",
    "    if iteration_num > 100:\n",
    "        break\n",
    "\n",
    "# Use \"Iteration_Num\" approach if you're unsure about your Loop running endlessly!"
   ]
  },
  {
   "cell_type": "markdown",
   "metadata": {},
   "source": [
    "## Binary Search"
   ]
  },
  {
   "cell_type": "code",
   "execution_count": 32,
   "metadata": {},
   "outputs": [],
   "source": [
    "# STEP1: Define the Objective Function\n",
    "def Obj_function(c):\n",
    "    '''\n",
    "    Briefly describe what the function does and how it's to be used\n",
    "    \n",
    "    Inputs: Describe the inputs required and the data types\n",
    "    Outputs: Describe the outputs of the function and the data types\n",
    "    '''\n",
    "    return c**2"
   ]
  },
  {
   "cell_type": "code",
   "execution_count": 33,
   "metadata": {},
   "outputs": [],
   "source": [
    "# STEP2: Define the Outermost Boundaries\n",
    "a = 0\n",
    "b = 10"
   ]
  },
  {
   "cell_type": "code",
   "execution_count": null,
   "metadata": {},
   "outputs": [],
   "source": [
    "# STEP 3: Define the Desired Answer\n",
    "desired = 30"
   ]
  },
  {
   "cell_type": "code",
   "execution_count": null,
   "metadata": {},
   "outputs": [],
   "source": [
    "# STEP 4: Binary Search Code (Calculating Sqrt(30))\n",
    "iteration_num = 0\n",
    "\n",
    "while True:\n",
    "    iteration_num += 1\n",
    "    \n",
    "    c = (a + b) / 2\n",
    "    rv = Obj_function(c) - desired\n",
    "    print(iteration_num, c, rv)\n",
    "    \n",
    "    if abs(rv) < 0.001:\n",
    "        break\n",
    "    elif rv < 0:\n",
    "        a = c\n",
    "    else:\n",
    "        b = c\n",
    "\n",
    "print(iteration_num, c, rv, desired)"
   ]
  },
  {
   "cell_type": "code",
   "execution_count": null,
   "metadata": {},
   "outputs": [],
   "source": []
  },
  {
   "cell_type": "markdown",
   "metadata": {},
   "source": [
    "## (6) Using Modules\n",
    "\n",
    "#### *In-class Discussion"
   ]
  }
 ],
 "metadata": {
  "kernelspec": {
   "display_name": "Python 3",
   "language": "python",
   "name": "python3"
  },
  "language_info": {
   "codemirror_mode": {
    "name": "ipython",
    "version": 3
   },
   "file_extension": ".py",
   "mimetype": "text/x-python",
   "name": "python",
   "nbconvert_exporter": "python",
   "pygments_lexer": "ipython3",
   "version": "3.6.4"
  }
 },
 "nbformat": 4,
 "nbformat_minor": 2
}
